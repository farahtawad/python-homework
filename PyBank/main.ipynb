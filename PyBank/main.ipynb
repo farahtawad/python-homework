{
 "cells": [
  {
   "cell_type": "code",
   "execution_count": 11,
   "metadata": {},
   "outputs": [],
   "source": [
    "#Import pathlib and csv libraries\n",
    "from pathlib import Path \n",
    "import csv"
   ]
  },
  {
   "cell_type": "code",
   "execution_count": 12,
   "metadata": {},
   "outputs": [],
   "source": [
    "#Set current file path for budget data \n",
    "Path.cwd\n",
    "current_file = Path(\"budget_data.csv\")"
   ]
  },
  {
   "cell_type": "code",
   "execution_count": 16,
   "metadata": {},
   "outputs": [
    {
     "name": "stdout",
     "output_type": "stream",
     "text": [
      "Financial Analysis\n",
      "----------------------------\n",
      "Total Months: 86\n",
      "Total: $38382578\n",
      "Average Change: $-2315.12\n",
      "Greatest Increase in Profits: Feb-2012 (1926159)\n",
      "Greatest Decrease in Profits: Sep-2013 (-2196167)\n"
     ]
    }
   ],
   "source": [
    "#Initialize lists and metrics \n",
    "months = []\n",
    "profits = []\n",
    "net_total = 0\n",
    "total_months = 0 \n",
    "maximum = 0 \n",
    "maximum_key = ''\n",
    "minimum = 0\n",
    "minimum_key = ''\n",
    "#open file in read mode \n",
    "with open(current_file,'r') as file: \n",
    "    #open csv reader and set delimiter to \",\"\n",
    "    csvreader = csv.reader(file,delimiter = ',')\n",
    "    #read the header row \n",
    "    header = next(csvreader)\n",
    "    #iterate over data in csv file and append to list \n",
    "    for row in csvreader:\n",
    "        months.append(row[0])\n",
    "        profits.append(int(row[1]))\n",
    "        \n",
    "\n",
    "#iterate over profits list and calculate total of profit/losses\n",
    "for item in profits:\n",
    "    net_total += item\n",
    "    \n",
    "#iterate over months list and calculate count of months \n",
    "for month in months:\n",
    "    total_months += 1\n",
    "\n",
    "#initialize list and metrics to calculate average increase of profit over time  \n",
    "start_month = profits[0:85]\n",
    "end_month = profits[1:86]\n",
    "change_months = months[1:86]\n",
    "number_of_months = len(months)-1\n",
    "change_in_profits = []\n",
    "average_total = 0\n",
    "\n",
    "#iterate over start month and end month and calculate difference between each month respective to index \n",
    "for sum_end_month, sum_strt_month in zip(end_month,start_month):\n",
    "    change_in_profits.append(sum_end_month-sum_strt_month)\n",
    "\n",
    "zip_list = zip(change_months,change_in_profits)\n",
    "#create a dictionary based off of the zip_list \n",
    "avg_dictionary = dict(zip_list)\n",
    "\n",
    "for key, avrg in avg_dictionary.items():\n",
    "    if avrg == 0:\n",
    "        minimum = avrg\n",
    "        minimum_key = key\n",
    "    elif avrg < minimum:\n",
    "        minimum = avrg \n",
    "        minimum_key = key \n",
    "    elif avrg > maximum:\n",
    "        maximum = avrg\n",
    "        maximum_key = key \n",
    "\n",
    "#iterate over list of average increase in profit/lost and calculate total average increase \n",
    "for avg in change_in_profits:\n",
    "    average_total = average_total + (avg/number_of_months)\n",
    "\n",
    "#print financial analysis summary \n",
    "print(f'Financial Analysis')\n",
    "print(f'----------------------------')\n",
    "print(f'Total Months: {total_months}')\n",
    "print(f'Total: ${net_total}')\n",
    "print(f'Average Change: ${average_total:.2f}')\n",
    "print(f'Greatest Increase in Profits: {maximum_key} ({maximum})')\n",
    "print(f'Greatest Decrease in Profits: {minimum_key} ({minimum})')\n"
   ]
  },
  {
   "cell_type": "code",
   "execution_count": null,
   "metadata": {},
   "outputs": [],
   "source": []
  },
  {
   "cell_type": "code",
   "execution_count": null,
   "metadata": {},
   "outputs": [],
   "source": [
    "\n"
   ]
  },
  {
   "cell_type": "code",
   "execution_count": null,
   "metadata": {},
   "outputs": [],
   "source": []
  },
  {
   "cell_type": "code",
   "execution_count": null,
   "metadata": {},
   "outputs": [],
   "source": []
  }
 ],
 "metadata": {
  "kernelspec": {
   "display_name": "Python 3",
   "language": "python",
   "name": "python3"
  },
  "language_info": {
   "codemirror_mode": {
    "name": "ipython",
    "version": 3
   },
   "file_extension": ".py",
   "mimetype": "text/x-python",
   "name": "python",
   "nbconvert_exporter": "python",
   "pygments_lexer": "ipython3",
   "version": "3.8.3"
  }
 },
 "nbformat": 4,
 "nbformat_minor": 4
}
